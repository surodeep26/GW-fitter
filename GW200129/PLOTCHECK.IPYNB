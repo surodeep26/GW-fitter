{
 "cells": [
  {
   "cell_type": "code",
   "execution_count": 1,
   "metadata": {},
   "outputs": [
    {
     "name": "stdout",
     "output_type": "stream",
     "text": [
      "JavaScript file 'wavedata.js' has been created.\n"
     ]
    }
   ],
   "source": [
    "from astropy.table import Table\n",
    "import matplotlib.pyplot as plt\n",
    "import numpy as np\n",
    "\n",
    "data = Table.read(\"GW200129_noisy.csv\", format='ascii.csv')\n",
    "sim = Table.read(\"GW200129.csv\", format='ascii.csv')\n",
    "\n",
    "column1 = data['t'].data\n",
    "column2 = data['h'].data*1e21\n",
    "column1.astype(np.float16)\n",
    "column2.astype(np.float16)\n",
    "# Create the list of lists for JavaScript\n",
    "data_js = [[c1, c2] for c1, c2 in zip(column1, column2)]\n",
    "\n",
    "column1a = sim['t'].data\n",
    "column2a = sim['h'].data*1e21\n",
    "column1a.astype(np.float16)\n",
    "column2a.astype(np.float16)\n",
    "# Create the list of lists for JavaScript\n",
    "data_js2 = [[c1, c2] for c1, c2 in zip(column1a, column2a)]\n",
    "\n",
    "# Prepare the JavaScript content\n",
    "js_content = f\"const dataH = {data_js}; \\n const simNR = {data_js2}\"\n",
    "\n",
    "# Write the content to a file\n",
    "with open('wavedata.js', 'w') as js_file:\n",
    "    js_file.write(js_content)\n",
    "\n",
    "print(\"JavaScript file 'wavedata.js' has been created.\")\n"
   ]
  }
 ],
 "metadata": {
  "kernelspec": {
   "display_name": "Python 3",
   "language": "python",
   "name": "python3"
  },
  "language_info": {
   "codemirror_mode": {
    "name": "ipython",
    "version": 3
   },
   "file_extension": ".py",
   "mimetype": "text/x-python",
   "name": "python",
   "nbconvert_exporter": "python",
   "pygments_lexer": "ipython3",
   "version": "3.11.6"
  }
 },
 "nbformat": 4,
 "nbformat_minor": 2
}
